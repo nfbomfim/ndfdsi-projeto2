{
 "cells": [
  {
   "cell_type": "markdown",
   "metadata": {},
   "source": [
    "# Estudo do conjunto demografico do Titanic "
   ]
  },
  {
   "cell_type": "markdown",
   "metadata": {},
   "source": [
    "## Sobre o conjunto de dados utilizado\n",
    "\n",
    "O conjunto de dados tratado neste relatório foi obtido da plataforma **Kaglle**. O Kanglle é uma plataforma de Hackathon ou Desafios de Machine Learning.\n",
    "\n",
    "Os dados a serem observados dizem respeito aos passageiros do famoso transatlantico TITANIC pertecente a Companhia maritima RMS\n",
    "\n",
    "### Dicionario de dados\n",
    "\n",
    " <table style=\"width:90%\">\n",
    "  <tr>\n",
    "    <th>Column</th>\n",
    "    <th>Type</th>\n",
    "    <th>Descrição</th>\n",
    "  </tr>\n",
    "  <tr>\n",
    "    <td>PassengerId</td>\n",
    "    <td>Numeric</td>\n",
    "    <td>type should be integers</td>\n",
    "  </tr>\n",
    "  <tr>\n",
    "    <td>Survived</td>\n",
    "    <td>Numeric</td>\n",
    "    <td>Survived or Not</td>\n",
    "  </tr>\n",
    "  <tr>\n",
    "    <td>Pclass</td>\n",
    "    <td>Numeric</td>\n",
    "    <td>Class of Travel</td>\n",
    "  </tr>\n",
    "  <tr>\n",
    "    <td>Name</td>\n",
    "    <td>String</td>\n",
    "    <td>Name of Passenger</td>\n",
    "  </tr>\n",
    "  <tr>\n",
    "    <td>Sex</td>\n",
    "    <td>String</td>\n",
    "    <td>Gender</td>\n",
    "  </tr>\n",
    "  <tr>\n",
    "    <td>Age</td>\n",
    "    <td>Numeric</td>\n",
    "    <td></td>\n",
    "  </tr>\n",
    "  <tr>\n",
    "    <td>SibSp</td>\n",
    "    <td>String</td>\n",
    "    <td>Number of Sibling/Spouse aboard</td>\n",
    "  </tr>\n",
    "  <tr>\n",
    "    <td>Parch</td>\n",
    "    <td>Numeric</td>\n",
    "    <td>Number of Parent/Child aboard</td>\n",
    "  </tr>\n",
    "  <tr>\n",
    "    <td>Ticket</td>\n",
    "    <td>String</td>\n",
    "    <td></td>\n",
    "  </tr>\n",
    "  <tr>\n",
    "    <td>Fare</td>\n",
    "    <td>Numeric</td>\n",
    "    <td></td>\n",
    "  </tr>\n",
    "  <tr>\n",
    "    <td>Cabin</td>\n",
    "    <td>String</td>\n",
    "    <td></td>\n",
    "  </tr>\n",
    "  <tr>\n",
    "    <td>Embarked</td>\n",
    "    <td>String</td>\n",
    "    <td>The port in which a passenger has embarked. C - Cherbourg, S - Southampton, Q = Queenstown</td>\n",
    "  </tr>\n",
    "</table> \n"
   ]
  },
  {
   "cell_type": "markdown",
   "metadata": {},
   "source": [
    "## O problema (pergunta a ser respondida)\n",
    "\n",
    "\n",
    "### Diante do conjunto de dados demograficos do Titanic podemos traçar um perfil de evacuação adotado?\n",
    "\n",
    "### Perguntas?\n",
    "\n",
    "- Passageiros do sexo feminino possuem maior propensão a serem salvos?\n",
    "- Pessoas idosas estão menos propensas a serem salvas?\n",
    "- Passageiros com maior número de familiares são mais propensos a serem salvos?\n",
    "\n",
    "### Variaveis Idependentes:\n",
    "- Sex;\n",
    "- Grupo etário;\n",
    "- Family size.\n",
    "\n",
    "### Variavel dependente:\n",
    "- Survived"
   ]
  },
  {
   "cell_type": "markdown",
   "metadata": {},
   "source": [
    "## Descrição do processo de investigação"
   ]
  },
  {
   "cell_type": "markdown",
   "metadata": {},
   "source": [
    "### Limpeza e preparação dos dados"
   ]
  },
  {
   "cell_type": "code",
   "execution_count": 1,
   "metadata": {},
   "outputs": [],
   "source": [
    "#importando biblioteca pamdas\n",
    "import pandas as pd\n",
    "import numpy as np\n",
    "import seaborn as sns\n",
    "import matplotlib.pyplot as plt \n",
    "\n",
    "% matplotlib inline\n",
    "\n",
    "#carregando dataset\n",
    "df = pd.read_csv('titanic-data-6.csv')"
   ]
  },
  {
   "cell_type": "markdown",
   "metadata": {},
   "source": [
    "**Visão geral dos dados**"
   ]
  },
  {
   "cell_type": "code",
   "execution_count": 2,
   "metadata": {},
   "outputs": [
    {
     "data": {
      "text/html": [
       "<div>\n",
       "<style scoped>\n",
       "    .dataframe tbody tr th:only-of-type {\n",
       "        vertical-align: middle;\n",
       "    }\n",
       "\n",
       "    .dataframe tbody tr th {\n",
       "        vertical-align: top;\n",
       "    }\n",
       "\n",
       "    .dataframe thead th {\n",
       "        text-align: right;\n",
       "    }\n",
       "</style>\n",
       "<table border=\"1\" class=\"dataframe\">\n",
       "  <thead>\n",
       "    <tr style=\"text-align: right;\">\n",
       "      <th></th>\n",
       "      <th>PassengerId</th>\n",
       "      <th>Survived</th>\n",
       "      <th>Pclass</th>\n",
       "      <th>Name</th>\n",
       "      <th>Sex</th>\n",
       "      <th>Age</th>\n",
       "      <th>SibSp</th>\n",
       "      <th>Parch</th>\n",
       "      <th>Ticket</th>\n",
       "      <th>Fare</th>\n",
       "      <th>Cabin</th>\n",
       "      <th>Embarked</th>\n",
       "    </tr>\n",
       "  </thead>\n",
       "  <tbody>\n",
       "    <tr>\n",
       "      <th>0</th>\n",
       "      <td>1</td>\n",
       "      <td>0</td>\n",
       "      <td>3</td>\n",
       "      <td>Braund, Mr. Owen Harris</td>\n",
       "      <td>male</td>\n",
       "      <td>22.0</td>\n",
       "      <td>1</td>\n",
       "      <td>0</td>\n",
       "      <td>A/5 21171</td>\n",
       "      <td>7.2500</td>\n",
       "      <td>NaN</td>\n",
       "      <td>S</td>\n",
       "    </tr>\n",
       "    <tr>\n",
       "      <th>1</th>\n",
       "      <td>2</td>\n",
       "      <td>1</td>\n",
       "      <td>1</td>\n",
       "      <td>Cumings, Mrs. John Bradley (Florence Briggs Th...</td>\n",
       "      <td>female</td>\n",
       "      <td>38.0</td>\n",
       "      <td>1</td>\n",
       "      <td>0</td>\n",
       "      <td>PC 17599</td>\n",
       "      <td>71.2833</td>\n",
       "      <td>C85</td>\n",
       "      <td>C</td>\n",
       "    </tr>\n",
       "    <tr>\n",
       "      <th>2</th>\n",
       "      <td>3</td>\n",
       "      <td>1</td>\n",
       "      <td>3</td>\n",
       "      <td>Heikkinen, Miss. Laina</td>\n",
       "      <td>female</td>\n",
       "      <td>26.0</td>\n",
       "      <td>0</td>\n",
       "      <td>0</td>\n",
       "      <td>STON/O2. 3101282</td>\n",
       "      <td>7.9250</td>\n",
       "      <td>NaN</td>\n",
       "      <td>S</td>\n",
       "    </tr>\n",
       "    <tr>\n",
       "      <th>3</th>\n",
       "      <td>4</td>\n",
       "      <td>1</td>\n",
       "      <td>1</td>\n",
       "      <td>Futrelle, Mrs. Jacques Heath (Lily May Peel)</td>\n",
       "      <td>female</td>\n",
       "      <td>35.0</td>\n",
       "      <td>1</td>\n",
       "      <td>0</td>\n",
       "      <td>113803</td>\n",
       "      <td>53.1000</td>\n",
       "      <td>C123</td>\n",
       "      <td>S</td>\n",
       "    </tr>\n",
       "    <tr>\n",
       "      <th>4</th>\n",
       "      <td>5</td>\n",
       "      <td>0</td>\n",
       "      <td>3</td>\n",
       "      <td>Allen, Mr. William Henry</td>\n",
       "      <td>male</td>\n",
       "      <td>35.0</td>\n",
       "      <td>0</td>\n",
       "      <td>0</td>\n",
       "      <td>373450</td>\n",
       "      <td>8.0500</td>\n",
       "      <td>NaN</td>\n",
       "      <td>S</td>\n",
       "    </tr>\n",
       "  </tbody>\n",
       "</table>\n",
       "</div>"
      ],
      "text/plain": [
       "   PassengerId  Survived  Pclass  \\\n",
       "0            1         0       3   \n",
       "1            2         1       1   \n",
       "2            3         1       3   \n",
       "3            4         1       1   \n",
       "4            5         0       3   \n",
       "\n",
       "                                                Name     Sex   Age  SibSp  \\\n",
       "0                            Braund, Mr. Owen Harris    male  22.0      1   \n",
       "1  Cumings, Mrs. John Bradley (Florence Briggs Th...  female  38.0      1   \n",
       "2                             Heikkinen, Miss. Laina  female  26.0      0   \n",
       "3       Futrelle, Mrs. Jacques Heath (Lily May Peel)  female  35.0      1   \n",
       "4                           Allen, Mr. William Henry    male  35.0      0   \n",
       "\n",
       "   Parch            Ticket     Fare Cabin Embarked  \n",
       "0      0         A/5 21171   7.2500   NaN        S  \n",
       "1      0          PC 17599  71.2833   C85        C  \n",
       "2      0  STON/O2. 3101282   7.9250   NaN        S  \n",
       "3      0            113803  53.1000  C123        S  \n",
       "4      0            373450   8.0500   NaN        S  "
      ]
     },
     "execution_count": 2,
     "metadata": {},
     "output_type": "execute_result"
    }
   ],
   "source": [
    "df.head()"
   ]
  },
  {
   "cell_type": "markdown",
   "metadata": {},
   "source": [
    "**Número de amostras e colunas do conjunto de dados**"
   ]
  },
  {
   "cell_type": "code",
   "execution_count": 3,
   "metadata": {},
   "outputs": [
    {
     "name": "stdout",
     "output_type": "stream",
     "text": [
      "O DataFrame possui 891 linha e 12 colunas.\n"
     ]
    }
   ],
   "source": [
    "print(\"O DataFrame possui {0} linha e {1} colunas.\".format(df.shape[0], df.shape[1]))"
   ]
  },
  {
   "cell_type": "markdown",
   "metadata": {},
   "source": [
    "**Presença de linhas duplicadas no conjunto de dados**"
   ]
  },
  {
   "cell_type": "code",
   "execution_count": 4,
   "metadata": {},
   "outputs": [
    {
     "name": "stdout",
     "output_type": "stream",
     "text": [
      "O conjunto de dados possui 0 linhas duplicadas\n"
     ]
    }
   ],
   "source": [
    "#Existencia de linhas duplicadas\n",
    "print(\"O conjunto de dados possui {} linhas duplicadas\".format(df.duplicated().sum()))"
   ]
  },
  {
   "cell_type": "markdown",
   "metadata": {},
   "source": [
    "**Tipos de dados das colunas**"
   ]
  },
  {
   "cell_type": "code",
   "execution_count": 5,
   "metadata": {},
   "outputs": [
    {
     "data": {
      "text/plain": [
       "PassengerId      int64\n",
       "Survived         int64\n",
       "Pclass           int64\n",
       "Name            object\n",
       "Sex             object\n",
       "Age            float64\n",
       "SibSp            int64\n",
       "Parch            int64\n",
       "Ticket          object\n",
       "Fare           float64\n",
       "Cabin           object\n",
       "Embarked        object\n",
       "dtype: object"
      ]
     },
     "execution_count": 5,
     "metadata": {},
     "output_type": "execute_result"
    }
   ],
   "source": [
    "#tipos de dados das colunas\n",
    "df.dtypes"
   ]
  },
  {
   "cell_type": "markdown",
   "metadata": {},
   "source": [
    "Observando o tipo de dados das colunas *object*"
   ]
  },
  {
   "cell_type": "code",
   "execution_count": 6,
   "metadata": {},
   "outputs": [
    {
     "name": "stdout",
     "output_type": "stream",
     "text": [
      "Name <class 'str'>\n",
      "Sex <class 'str'>\n",
      "Ticket <class 'str'>\n",
      "Cabin <class 'str'>\n",
      "Embarked <class 'str'>\n"
     ]
    }
   ],
   "source": [
    "for i, tipo in enumerate(df.dtypes):\n",
    "     if tipo == 'object':\n",
    "        print(df.columns[i], type(df.columns[i][0]))"
   ]
  },
  {
   "cell_type": "markdown",
   "metadata": {},
   "source": [
    "**Atributos com valor ausente**"
   ]
  },
  {
   "cell_type": "code",
   "execution_count": 7,
   "metadata": {},
   "outputs": [
    {
     "name": "stdout",
     "output_type": "stream",
     "text": [
      "As coluna(s): Age, Cabin, Embarked,  possuem respectivamente [177, 687, 2] valores nulos!\n"
     ]
    }
   ],
   "source": [
    "msg = \"\"\n",
    "vlr = []\n",
    "for i, coluna in enumerate(df.columns):\n",
    "    if df[df.columns[i]].isnull().sum() != 0:\n",
    "        msg += df.columns[i]\n",
    "        msg += \", \"\n",
    "        vlr.append(df[df.columns[i]].isnull().sum())\n",
    "if vlr == \"\":\n",
    "    print(\"Não há colunas com valores nulos no DataFrame examinado!\")\n",
    "else:\n",
    "    print(\"As coluna(s): {} possuem respectivamente {} valores nulos!\".format(msg, vlr))\n"
   ]
  },
  {
   "cell_type": "markdown",
   "metadata": {},
   "source": [
    "Apesar da coluna **Age** ser uma de nossas variaveis independentes e possuir valores Nulos. A sua representatividade ainda é superior a 80% do total de dados."
   ]
  },
  {
   "cell_type": "markdown",
   "metadata": {},
   "source": [
    "**Valores unicos não nulos**"
   ]
  },
  {
   "cell_type": "code",
   "execution_count": 8,
   "metadata": {},
   "outputs": [
    {
     "data": {
      "text/plain": [
       "PassengerId    891\n",
       "Survived         2\n",
       "Pclass           3\n",
       "Name           891\n",
       "Sex              2\n",
       "Age             88\n",
       "SibSp            7\n",
       "Parch            7\n",
       "Ticket         681\n",
       "Fare           248\n",
       "Cabin          147\n",
       "Embarked         3\n",
       "dtype: int64"
      ]
     },
     "execution_count": 8,
     "metadata": {},
     "output_type": "execute_result"
    }
   ],
   "source": [
    "#retorna o número de valores unicos de cada coluna\n",
    "df.nunique()"
   ]
  },
  {
   "cell_type": "markdown",
   "metadata": {},
   "source": [
    "**Apresentando a densidade média do conjunto de dados**"
   ]
  },
  {
   "cell_type": "code",
   "execution_count": 9,
   "metadata": {},
   "outputs": [
    {
     "data": {
      "text/html": [
       "<div>\n",
       "<style scoped>\n",
       "    .dataframe tbody tr th:only-of-type {\n",
       "        vertical-align: middle;\n",
       "    }\n",
       "\n",
       "    .dataframe tbody tr th {\n",
       "        vertical-align: top;\n",
       "    }\n",
       "\n",
       "    .dataframe thead th {\n",
       "        text-align: right;\n",
       "    }\n",
       "</style>\n",
       "<table border=\"1\" class=\"dataframe\">\n",
       "  <thead>\n",
       "    <tr style=\"text-align: right;\">\n",
       "      <th></th>\n",
       "      <th>PassengerId</th>\n",
       "      <th>Survived</th>\n",
       "      <th>Pclass</th>\n",
       "      <th>Age</th>\n",
       "      <th>SibSp</th>\n",
       "      <th>Parch</th>\n",
       "      <th>Fare</th>\n",
       "    </tr>\n",
       "  </thead>\n",
       "  <tbody>\n",
       "    <tr>\n",
       "      <th>count</th>\n",
       "      <td>891.000000</td>\n",
       "      <td>891.000000</td>\n",
       "      <td>891.000000</td>\n",
       "      <td>714.000000</td>\n",
       "      <td>891.000000</td>\n",
       "      <td>891.000000</td>\n",
       "      <td>891.000000</td>\n",
       "    </tr>\n",
       "    <tr>\n",
       "      <th>mean</th>\n",
       "      <td>446.000000</td>\n",
       "      <td>0.383838</td>\n",
       "      <td>2.308642</td>\n",
       "      <td>29.699118</td>\n",
       "      <td>0.523008</td>\n",
       "      <td>0.381594</td>\n",
       "      <td>32.204208</td>\n",
       "    </tr>\n",
       "    <tr>\n",
       "      <th>std</th>\n",
       "      <td>257.353842</td>\n",
       "      <td>0.486592</td>\n",
       "      <td>0.836071</td>\n",
       "      <td>14.526497</td>\n",
       "      <td>1.102743</td>\n",
       "      <td>0.806057</td>\n",
       "      <td>49.693429</td>\n",
       "    </tr>\n",
       "    <tr>\n",
       "      <th>min</th>\n",
       "      <td>1.000000</td>\n",
       "      <td>0.000000</td>\n",
       "      <td>1.000000</td>\n",
       "      <td>0.420000</td>\n",
       "      <td>0.000000</td>\n",
       "      <td>0.000000</td>\n",
       "      <td>0.000000</td>\n",
       "    </tr>\n",
       "    <tr>\n",
       "      <th>25%</th>\n",
       "      <td>223.500000</td>\n",
       "      <td>0.000000</td>\n",
       "      <td>2.000000</td>\n",
       "      <td>20.125000</td>\n",
       "      <td>0.000000</td>\n",
       "      <td>0.000000</td>\n",
       "      <td>7.910400</td>\n",
       "    </tr>\n",
       "    <tr>\n",
       "      <th>50%</th>\n",
       "      <td>446.000000</td>\n",
       "      <td>0.000000</td>\n",
       "      <td>3.000000</td>\n",
       "      <td>28.000000</td>\n",
       "      <td>0.000000</td>\n",
       "      <td>0.000000</td>\n",
       "      <td>14.454200</td>\n",
       "    </tr>\n",
       "    <tr>\n",
       "      <th>75%</th>\n",
       "      <td>668.500000</td>\n",
       "      <td>1.000000</td>\n",
       "      <td>3.000000</td>\n",
       "      <td>38.000000</td>\n",
       "      <td>1.000000</td>\n",
       "      <td>0.000000</td>\n",
       "      <td>31.000000</td>\n",
       "    </tr>\n",
       "    <tr>\n",
       "      <th>max</th>\n",
       "      <td>891.000000</td>\n",
       "      <td>1.000000</td>\n",
       "      <td>3.000000</td>\n",
       "      <td>80.000000</td>\n",
       "      <td>8.000000</td>\n",
       "      <td>6.000000</td>\n",
       "      <td>512.329200</td>\n",
       "    </tr>\n",
       "  </tbody>\n",
       "</table>\n",
       "</div>"
      ],
      "text/plain": [
       "       PassengerId    Survived      Pclass         Age       SibSp  \\\n",
       "count   891.000000  891.000000  891.000000  714.000000  891.000000   \n",
       "mean    446.000000    0.383838    2.308642   29.699118    0.523008   \n",
       "std     257.353842    0.486592    0.836071   14.526497    1.102743   \n",
       "min       1.000000    0.000000    1.000000    0.420000    0.000000   \n",
       "25%     223.500000    0.000000    2.000000   20.125000    0.000000   \n",
       "50%     446.000000    0.000000    3.000000   28.000000    0.000000   \n",
       "75%     668.500000    1.000000    3.000000   38.000000    1.000000   \n",
       "max     891.000000    1.000000    3.000000   80.000000    8.000000   \n",
       "\n",
       "            Parch        Fare  \n",
       "count  891.000000  891.000000  \n",
       "mean     0.381594   32.204208  \n",
       "std      0.806057   49.693429  \n",
       "min      0.000000    0.000000  \n",
       "25%      0.000000    7.910400  \n",
       "50%      0.000000   14.454200  \n",
       "75%      0.000000   31.000000  \n",
       "max      6.000000  512.329200  "
      ]
     },
     "execution_count": 9,
     "metadata": {},
     "output_type": "execute_result"
    }
   ],
   "source": [
    "#retorna estatistica descritica de cada coluna\n",
    "df.describe()"
   ]
  },
  {
   "cell_type": "markdown",
   "metadata": {},
   "source": [
    "**Observação**<br>\n",
    "1. No momento a densidade média apresentada não é significativa. Faz-se necessário realizar alguns tratamentos de dados faltantes e não númerico das nossas variaveis independentes consideradas, criar colunas de variavel independente não existente no conjunto de dados original;\n",
    "2. Utilizaremos [feature engineering](https://triangleinequality.wordpress.com/2013/09/08/basic-feature-engineering-with-the-titanic-data/) apresentado no Kaggle para criar novas caracteristicas para analise dos dados."
   ]
  },
  {
   "cell_type": "markdown",
   "metadata": {},
   "source": [
    "**Criando novas Features**<br>\n",
    "Criaremos as Features 'Title', 'Deck' e 'Family_Size'<br>\n",
    "- A *Fueature* 'Family_Size' é uma de nossas variaveis independentes de analise obtido da relação das features 'SibSp' (irmãos/cônjuges a bordo do Titanic) e 'Parch' (pais/filhos a bordo do Titanic);\n",
    "- A *Fueature* 'Title' extraido da feature 'Name' e realizado algumas conversões pelos tratamentos comuns a epoca;\n",
    "- A *Feature* 'Deck' extraido da feature 'Cabin'"
   ]
  },
  {
   "cell_type": "code",
   "execution_count": 10,
   "metadata": {},
   "outputs": [],
   "source": [
    "import string\n",
    "\n",
    "\n",
    "#convertendo os dados object para string\n",
    "df['Cabin'] = df['Cabin'].astype('str')\n",
    "df['Name'] = df['Name'].astype('str')\n",
    "df['Sex'] = df['Sex'].astype('str')\n",
    "df['Ticket'] = df['Ticket'].astype('str')\n",
    "df['Embarked'] = df['Embarked'].astype('str')\n",
    "\n",
    "def substrings_in_string(big_string, substrings):\n",
    "    '''Função para retornar uma substring de uma string'''\n",
    "    \n",
    "    for substring in substrings:\n",
    "        if big_string.find(substring) != -1:\n",
    "            return substring\n",
    "    return np.nan\n",
    "\n",
    "title_list=['Mrs', 'Mr', 'Master', 'Miss', 'Major', 'Rev',\n",
    "                    'Dr', 'Ms', 'Mlle','Col', 'Capt', 'Mme', 'Countess',\n",
    "                    'Don', 'Jonkheer']\n",
    "\n",
    "#Criando a feature 'Title' extraindo da feature 'Name'\n",
    "df['Title']=df['Name'].map(lambda x: substrings_in_string(x, title_list))\n",
    " \n",
    "def replace_titles(x):\n",
    "    '''Função para substituição dos titulos ou tratamentos aos nomes'''\n",
    "    \n",
    "    title=x['Title']\n",
    "    if title in ['Don', 'Major', 'Capt', 'Jonkheer', 'Rev', 'Col']:\n",
    "        return 'Mr'\n",
    "    elif title in ['Countess', 'Mme']:\n",
    "        return 'Mrs'\n",
    "    elif title in ['Mlle', 'Ms']:\n",
    "        return 'Miss'\n",
    "    elif title =='Dr':\n",
    "        if x['Sex']=='Male':\n",
    "            return 'Mr'\n",
    "        else:\n",
    "            return 'Mrs'\n",
    "    else:\n",
    "        return title\n",
    "\n",
    "\n",
    "df['Title']=df.apply(replace_titles, axis=1)\n",
    "\n",
    "#Criando a feature 'Deck' extraindo da feature 'Cabin'\n",
    "cabin_list = ['A', 'B', 'C', 'D', 'E', 'F', 'T', 'G', 'Unknown']\n",
    "df['Deck']=df['Cabin'].map(lambda x: substrings_in_string(x, cabin_list))\n",
    "\n",
    "#criando a feature 'Family_Size' pela adição das features 'SibSp' + 'Parch'\n",
    "df['Family_Size']=df['SibSp']+df['Parch']\n"
   ]
  },
  {
   "cell_type": "markdown",
   "metadata": {},
   "source": [
    "<p>Para a criação da feature Class_Age sera adotado a classificação da WHO (World Health Organization)<br>"
   ]
  },
  {
   "cell_type": "code",
   "execution_count": 11,
   "metadata": {},
   "outputs": [],
   "source": [
    "def grupo_etario(idade):\n",
    "    '''Função para retornar o grupo etario a que pertence uma idade'''\n",
    "    \n",
    "    if idade > 0.0 and idade <= 9.0:\n",
    "        return 'child'\n",
    "    elif idade > 9.0 and idade <= 19.0:\n",
    "        return 'teenager'\n",
    "    elif idade > 19.0 and idade <= 59.0:\n",
    "        return 'adult'\n",
    "    elif idade > 59.0:\n",
    "        return 'senior'\n",
    "    else:\n",
    "        return np.nan \n",
    "    \n",
    "df['Class_Age']=df['Age'].map(lambda x: grupo_etario(x) )"
   ]
  },
  {
   "cell_type": "markdown",
   "metadata": {},
   "source": [
    "**Descartando colunas sem valia para a analise**"
   ]
  },
  {
   "cell_type": "code",
   "execution_count": 12,
   "metadata": {},
   "outputs": [],
   "source": [
    "df.drop(['SibSp', 'Parch', 'Fare', 'Cabin', 'Ticket', 'Deck'], axis=1, inplace=True)"
   ]
  },
  {
   "cell_type": "markdown",
   "metadata": {},
   "source": [
    "**Eliminando linhas com valores nulos da coluna *'Age'* **"
   ]
  },
  {
   "cell_type": "code",
   "execution_count": 13,
   "metadata": {},
   "outputs": [],
   "source": [
    "df = df.dropna(axis=0, subset=['Age'])"
   ]
  },
  {
   "cell_type": "code",
   "execution_count": 14,
   "metadata": {},
   "outputs": [
    {
     "name": "stdout",
     "output_type": "stream",
     "text": [
      "<class 'pandas.core.frame.DataFrame'>\n",
      "Int64Index: 714 entries, 0 to 890\n",
      "Data columns (total 10 columns):\n",
      "PassengerId    714 non-null int64\n",
      "Survived       714 non-null int64\n",
      "Pclass         714 non-null int64\n",
      "Name           714 non-null object\n",
      "Sex            714 non-null object\n",
      "Age            714 non-null float64\n",
      "Embarked       714 non-null object\n",
      "Title          714 non-null object\n",
      "Family_Size    714 non-null int64\n",
      "Class_Age      714 non-null object\n",
      "dtypes: float64(1), int64(4), object(5)\n",
      "memory usage: 61.4+ KB\n"
     ]
    }
   ],
   "source": [
    "df.info()"
   ]
  },
  {
   "cell_type": "markdown",
   "metadata": {},
   "source": [
    "**Salvando o *dataset* inicialemente tratado**"
   ]
  },
  {
   "cell_type": "code",
   "execution_count": 15,
   "metadata": {},
   "outputs": [],
   "source": [
    "df.to_csv('titanic_data_edited.csv', index=False)"
   ]
  },
  {
   "cell_type": "markdown",
   "metadata": {},
   "source": [
    "## Conclusões"
   ]
  },
  {
   "cell_type": "markdown",
   "metadata": {},
   "source": [
    "### Analise exploratoria dos dados"
   ]
  },
  {
   "cell_type": "markdown",
   "metadata": {},
   "source": [
    "Iniciando a exploração dos dados com informações visuais"
   ]
  },
  {
   "cell_type": "code",
   "execution_count": 16,
   "metadata": {},
   "outputs": [
    {
     "data": {
      "text/html": [
       "<div>\n",
       "<style scoped>\n",
       "    .dataframe tbody tr th:only-of-type {\n",
       "        vertical-align: middle;\n",
       "    }\n",
       "\n",
       "    .dataframe tbody tr th {\n",
       "        vertical-align: top;\n",
       "    }\n",
       "\n",
       "    .dataframe thead th {\n",
       "        text-align: right;\n",
       "    }\n",
       "</style>\n",
       "<table border=\"1\" class=\"dataframe\">\n",
       "  <thead>\n",
       "    <tr style=\"text-align: right;\">\n",
       "      <th></th>\n",
       "      <th>PassengerId</th>\n",
       "      <th>Survived</th>\n",
       "      <th>Pclass</th>\n",
       "      <th>Name</th>\n",
       "      <th>Sex</th>\n",
       "      <th>Age</th>\n",
       "      <th>Embarked</th>\n",
       "      <th>Title</th>\n",
       "      <th>Family_Size</th>\n",
       "      <th>Class_Age</th>\n",
       "    </tr>\n",
       "  </thead>\n",
       "  <tbody>\n",
       "    <tr>\n",
       "      <th>0</th>\n",
       "      <td>1</td>\n",
       "      <td>0</td>\n",
       "      <td>3</td>\n",
       "      <td>Braund, Mr. Owen Harris</td>\n",
       "      <td>male</td>\n",
       "      <td>22.0</td>\n",
       "      <td>S</td>\n",
       "      <td>Mr</td>\n",
       "      <td>1</td>\n",
       "      <td>adult</td>\n",
       "    </tr>\n",
       "    <tr>\n",
       "      <th>1</th>\n",
       "      <td>2</td>\n",
       "      <td>1</td>\n",
       "      <td>1</td>\n",
       "      <td>Cumings, Mrs. John Bradley (Florence Briggs Th...</td>\n",
       "      <td>female</td>\n",
       "      <td>38.0</td>\n",
       "      <td>C</td>\n",
       "      <td>Mrs</td>\n",
       "      <td>1</td>\n",
       "      <td>adult</td>\n",
       "    </tr>\n",
       "    <tr>\n",
       "      <th>2</th>\n",
       "      <td>3</td>\n",
       "      <td>1</td>\n",
       "      <td>3</td>\n",
       "      <td>Heikkinen, Miss. Laina</td>\n",
       "      <td>female</td>\n",
       "      <td>26.0</td>\n",
       "      <td>S</td>\n",
       "      <td>Miss</td>\n",
       "      <td>0</td>\n",
       "      <td>adult</td>\n",
       "    </tr>\n",
       "    <tr>\n",
       "      <th>3</th>\n",
       "      <td>4</td>\n",
       "      <td>1</td>\n",
       "      <td>1</td>\n",
       "      <td>Futrelle, Mrs. Jacques Heath (Lily May Peel)</td>\n",
       "      <td>female</td>\n",
       "      <td>35.0</td>\n",
       "      <td>S</td>\n",
       "      <td>Mrs</td>\n",
       "      <td>1</td>\n",
       "      <td>adult</td>\n",
       "    </tr>\n",
       "    <tr>\n",
       "      <th>4</th>\n",
       "      <td>5</td>\n",
       "      <td>0</td>\n",
       "      <td>3</td>\n",
       "      <td>Allen, Mr. William Henry</td>\n",
       "      <td>male</td>\n",
       "      <td>35.0</td>\n",
       "      <td>S</td>\n",
       "      <td>Mr</td>\n",
       "      <td>0</td>\n",
       "      <td>adult</td>\n",
       "    </tr>\n",
       "  </tbody>\n",
       "</table>\n",
       "</div>"
      ],
      "text/plain": [
       "   PassengerId  Survived  Pclass  \\\n",
       "0            1         0       3   \n",
       "1            2         1       1   \n",
       "2            3         1       3   \n",
       "3            4         1       1   \n",
       "4            5         0       3   \n",
       "\n",
       "                                                Name     Sex   Age Embarked  \\\n",
       "0                            Braund, Mr. Owen Harris    male  22.0        S   \n",
       "1  Cumings, Mrs. John Bradley (Florence Briggs Th...  female  38.0        C   \n",
       "2                             Heikkinen, Miss. Laina  female  26.0        S   \n",
       "3       Futrelle, Mrs. Jacques Heath (Lily May Peel)  female  35.0        S   \n",
       "4                           Allen, Mr. William Henry    male  35.0        S   \n",
       "\n",
       "  Title  Family_Size Class_Age  \n",
       "0    Mr            1     adult  \n",
       "1   Mrs            1     adult  \n",
       "2  Miss            0     adult  \n",
       "3   Mrs            1     adult  \n",
       "4    Mr            0     adult  "
      ]
     },
     "execution_count": 16,
     "metadata": {},
     "output_type": "execute_result"
    }
   ],
   "source": [
    "df_titanic = pd.read_csv('titanic_data_edited.csv')\n",
    "df_titanic.head()"
   ]
  },
  {
   "cell_type": "code",
   "execution_count": 17,
   "metadata": {},
   "outputs": [
    {
     "data": {
      "image/png": "[encoded data removed]",
      "text/plain": [
       "<Figure size 1440x1440 with 6 Axes>"
      ]
     },
     "metadata": {},
     "output_type": "display_data"
    }
   ],
   "source": [
    "df_titanic.hist(figsize=[20, 20]);"
   ]
  },
  {
   "cell_type": "code",
   "execution_count": 18,
   "metadata": {},
   "outputs": [
    {
     "data": {
      "text/html": [
       "<div>\n",
       "<style scoped>\n",
       "    .dataframe tbody tr th:only-of-type {\n",
       "        vertical-align: middle;\n",
       "    }\n",
       "\n",
       "    .dataframe tbody tr th {\n",
       "        vertical-align: top;\n",
       "    }\n",
       "\n",
       "    .dataframe thead th {\n",
       "        text-align: right;\n",
       "    }\n",
       "</style>\n",
       "<table border=\"1\" class=\"dataframe\">\n",
       "  <thead>\n",
       "    <tr style=\"text-align: right;\">\n",
       "      <th></th>\n",
       "      <th>PassengerId</th>\n",
       "      <th>Pclass</th>\n",
       "      <th>Age</th>\n",
       "      <th>Family_Size</th>\n",
       "    </tr>\n",
       "    <tr>\n",
       "      <th>Survived</th>\n",
       "      <th></th>\n",
       "      <th></th>\n",
       "      <th></th>\n",
       "      <th></th>\n",
       "    </tr>\n",
       "  </thead>\n",
       "  <tbody>\n",
       "    <tr>\n",
       "      <th>0</th>\n",
       "      <td>442.299528</td>\n",
       "      <td>2.485849</td>\n",
       "      <td>30.626179</td>\n",
       "      <td>0.891509</td>\n",
       "    </tr>\n",
       "    <tr>\n",
       "      <th>1</th>\n",
       "      <td>457.768966</td>\n",
       "      <td>1.872414</td>\n",
       "      <td>28.343690</td>\n",
       "      <td>1.020690</td>\n",
       "    </tr>\n",
       "  </tbody>\n",
       "</table>\n",
       "</div>"
      ],
      "text/plain": [
       "          PassengerId    Pclass        Age  Family_Size\n",
       "Survived                                               \n",
       "0          442.299528  2.485849  30.626179     0.891509\n",
       "1          457.768966  1.872414  28.343690     1.020690"
      ]
     },
     "execution_count": 18,
     "metadata": {},
     "output_type": "execute_result"
    }
   ],
   "source": [
    "df_titanic.groupby('Survived').mean()"
   ]
  },
  {
   "cell_type": "markdown",
   "metadata": {},
   "source": [
    "Quadro 1 - Apresenta a media da idade e Tamanho da Familia entre o grupo de sobreviventes<br>"
   ]
  },
  {
   "cell_type": "code",
   "execution_count": 19,
   "metadata": {},
   "outputs": [
    {
     "data": {
      "text/html": [
       "<div>\n",
       "<style scoped>\n",
       "    .dataframe tbody tr th:only-of-type {\n",
       "        vertical-align: middle;\n",
       "    }\n",
       "\n",
       "    .dataframe tbody tr th {\n",
       "        vertical-align: top;\n",
       "    }\n",
       "\n",
       "    .dataframe thead th {\n",
       "        text-align: right;\n",
       "    }\n",
       "</style>\n",
       "<table border=\"1\" class=\"dataframe\">\n",
       "  <thead>\n",
       "    <tr style=\"text-align: right;\">\n",
       "      <th></th>\n",
       "      <th></th>\n",
       "      <th>PassengerId</th>\n",
       "      <th>Pclass</th>\n",
       "      <th>Age</th>\n",
       "      <th>Family_Size</th>\n",
       "    </tr>\n",
       "    <tr>\n",
       "      <th>Survived</th>\n",
       "      <th>Sex</th>\n",
       "      <th></th>\n",
       "      <th></th>\n",
       "      <th></th>\n",
       "      <th></th>\n",
       "    </tr>\n",
       "  </thead>\n",
       "  <tbody>\n",
       "    <tr>\n",
       "      <th rowspan=\"2\" valign=\"top\">0</th>\n",
       "      <th>female</th>\n",
       "      <td>424.203125</td>\n",
       "      <td>2.812500</td>\n",
       "      <td>25.046875</td>\n",
       "      <td>2.046875</td>\n",
       "    </tr>\n",
       "    <tr>\n",
       "      <th>male</th>\n",
       "      <td>445.516667</td>\n",
       "      <td>2.427778</td>\n",
       "      <td>31.618056</td>\n",
       "      <td>0.686111</td>\n",
       "    </tr>\n",
       "    <tr>\n",
       "      <th rowspan=\"2\" valign=\"top\">1</th>\n",
       "      <th>female</th>\n",
       "      <td>445.395939</td>\n",
       "      <td>1.822335</td>\n",
       "      <td>28.847716</td>\n",
       "      <td>1.121827</td>\n",
       "    </tr>\n",
       "    <tr>\n",
       "      <th>male</th>\n",
       "      <td>483.978495</td>\n",
       "      <td>1.978495</td>\n",
       "      <td>27.276022</td>\n",
       "      <td>0.806452</td>\n",
       "    </tr>\n",
       "  </tbody>\n",
       "</table>\n",
       "</div>"
      ],
      "text/plain": [
       "                 PassengerId    Pclass        Age  Family_Size\n",
       "Survived Sex                                                  \n",
       "0        female   424.203125  2.812500  25.046875     2.046875\n",
       "         male     445.516667  2.427778  31.618056     0.686111\n",
       "1        female   445.395939  1.822335  28.847716     1.121827\n",
       "         male     483.978495  1.978495  27.276022     0.806452"
      ]
     },
     "execution_count": 19,
     "metadata": {},
     "output_type": "execute_result"
    }
   ],
   "source": [
    "df_titanic.groupby(['Survived', 'Sex']).mean()"
   ]
  },
  {
   "cell_type": "markdown",
   "metadata": {},
   "source": [
    "Quadro 2 - Apresenta a media da idade e Tamanho da Familia entre o grupo de sobreviventes por sexo<br>"
   ]
  },
  {
   "cell_type": "code",
   "execution_count": 20,
   "metadata": {},
   "outputs": [
    {
     "data": {
      "text/html": [
       "<div>\n",
       "<style scoped>\n",
       "    .dataframe tbody tr th:only-of-type {\n",
       "        vertical-align: middle;\n",
       "    }\n",
       "\n",
       "    .dataframe tbody tr th {\n",
       "        vertical-align: top;\n",
       "    }\n",
       "\n",
       "    .dataframe thead th {\n",
       "        text-align: right;\n",
       "    }\n",
       "</style>\n",
       "<table border=\"1\" class=\"dataframe\">\n",
       "  <thead>\n",
       "    <tr style=\"text-align: right;\">\n",
       "      <th></th>\n",
       "      <th></th>\n",
       "      <th>PassengerId</th>\n",
       "      <th>Pclass</th>\n",
       "      <th>Age</th>\n",
       "      <th>Family_Size</th>\n",
       "    </tr>\n",
       "    <tr>\n",
       "      <th>Survived</th>\n",
       "      <th>Class_Age</th>\n",
       "      <th></th>\n",
       "      <th></th>\n",
       "      <th></th>\n",
       "      <th></th>\n",
       "    </tr>\n",
       "  </thead>\n",
       "  <tbody>\n",
       "    <tr>\n",
       "      <th rowspan=\"4\" valign=\"top\">0</th>\n",
       "      <th>adult</th>\n",
       "      <td>446.675000</td>\n",
       "      <td>2.456250</td>\n",
       "      <td>33.101562</td>\n",
       "      <td>0.550000</td>\n",
       "    </tr>\n",
       "    <tr>\n",
       "      <th>child</th>\n",
       "      <td>372.083333</td>\n",
       "      <td>2.916667</td>\n",
       "      <td>5.041667</td>\n",
       "      <td>4.833333</td>\n",
       "    </tr>\n",
       "    <tr>\n",
       "      <th>senior</th>\n",
       "      <td>426.526316</td>\n",
       "      <td>1.578947</td>\n",
       "      <td>65.394737</td>\n",
       "      <td>0.526316</td>\n",
       "    </tr>\n",
       "    <tr>\n",
       "      <th>teenager</th>\n",
       "      <td>451.885246</td>\n",
       "      <td>2.754098</td>\n",
       "      <td>16.877049</td>\n",
       "      <td>1.245902</td>\n",
       "    </tr>\n",
       "    <tr>\n",
       "      <th rowspan=\"4\" valign=\"top\">1</th>\n",
       "      <th>adult</th>\n",
       "      <td>460.009804</td>\n",
       "      <td>1.745098</td>\n",
       "      <td>34.095588</td>\n",
       "      <td>0.813725</td>\n",
       "    </tr>\n",
       "    <tr>\n",
       "      <th>child</th>\n",
       "      <td>458.000000</td>\n",
       "      <td>2.447368</td>\n",
       "      <td>3.478158</td>\n",
       "      <td>2.263158</td>\n",
       "    </tr>\n",
       "    <tr>\n",
       "      <th>senior</th>\n",
       "      <td>535.285714</td>\n",
       "      <td>1.428571</td>\n",
       "      <td>64.285714</td>\n",
       "      <td>0.571429</td>\n",
       "    </tr>\n",
       "    <tr>\n",
       "      <th>teenager</th>\n",
       "      <td>433.170732</td>\n",
       "      <td>2.048780</td>\n",
       "      <td>16.634146</td>\n",
       "      <td>0.975610</td>\n",
       "    </tr>\n",
       "  </tbody>\n",
       "</table>\n",
       "</div>"
      ],
      "text/plain": [
       "                    PassengerId    Pclass        Age  Family_Size\n",
       "Survived Class_Age                                               \n",
       "0        adult       446.675000  2.456250  33.101562     0.550000\n",
       "         child       372.083333  2.916667   5.041667     4.833333\n",
       "         senior      426.526316  1.578947  65.394737     0.526316\n",
       "         teenager    451.885246  2.754098  16.877049     1.245902\n",
       "1        adult       460.009804  1.745098  34.095588     0.813725\n",
       "         child       458.000000  2.447368   3.478158     2.263158\n",
       "         senior      535.285714  1.428571  64.285714     0.571429\n",
       "         teenager    433.170732  2.048780  16.634146     0.975610"
      ]
     },
     "execution_count": 20,
     "metadata": {},
     "output_type": "execute_result"
    }
   ],
   "source": [
    "df_titanic.groupby(['Survived', 'Class_Age']).mean()"
   ]
  },
  {
   "cell_type": "markdown",
   "metadata": {},
   "source": [
    "Quadro 3 - Apresenta a media da idade e Tamanho da Familia entre o grupo de sobreviventes por Grupo etário<br>"
   ]
  },
  {
   "cell_type": "code",
   "execution_count": 21,
   "metadata": {},
   "outputs": [
    {
     "data": {
      "text/html": [
       "<div>\n",
       "<style scoped>\n",
       "    .dataframe tbody tr th:only-of-type {\n",
       "        vertical-align: middle;\n",
       "    }\n",
       "\n",
       "    .dataframe tbody tr th {\n",
       "        vertical-align: top;\n",
       "    }\n",
       "\n",
       "    .dataframe thead th {\n",
       "        text-align: right;\n",
       "    }\n",
       "</style>\n",
       "<table border=\"1\" class=\"dataframe\">\n",
       "  <thead>\n",
       "    <tr style=\"text-align: right;\">\n",
       "      <th></th>\n",
       "      <th></th>\n",
       "      <th>count</th>\n",
       "      <th>mean</th>\n",
       "      <th>std</th>\n",
       "      <th>min</th>\n",
       "      <th>25%</th>\n",
       "      <th>50%</th>\n",
       "      <th>75%</th>\n",
       "      <th>max</th>\n",
       "    </tr>\n",
       "    <tr>\n",
       "      <th>Sex</th>\n",
       "      <th>Class_Age</th>\n",
       "      <th></th>\n",
       "      <th></th>\n",
       "      <th></th>\n",
       "      <th></th>\n",
       "      <th></th>\n",
       "      <th></th>\n",
       "      <th></th>\n",
       "      <th></th>\n",
       "    </tr>\n",
       "  </thead>\n",
       "  <tbody>\n",
       "    <tr>\n",
       "      <th rowspan=\"4\" valign=\"top\">female</th>\n",
       "      <th>adult</th>\n",
       "      <td>140.0</td>\n",
       "      <td>1.014286</td>\n",
       "      <td>1.240711</td>\n",
       "      <td>0.0</td>\n",
       "      <td>0.0</td>\n",
       "      <td>1.0</td>\n",
       "      <td>2.0</td>\n",
       "      <td>6.0</td>\n",
       "    </tr>\n",
       "    <tr>\n",
       "      <th>child</th>\n",
       "      <td>19.0</td>\n",
       "      <td>2.263158</td>\n",
       "      <td>1.240166</td>\n",
       "      <td>0.0</td>\n",
       "      <td>2.0</td>\n",
       "      <td>2.0</td>\n",
       "      <td>3.0</td>\n",
       "      <td>6.0</td>\n",
       "    </tr>\n",
       "    <tr>\n",
       "      <th>senior</th>\n",
       "      <td>4.0</td>\n",
       "      <td>0.500000</td>\n",
       "      <td>0.577350</td>\n",
       "      <td>0.0</td>\n",
       "      <td>0.0</td>\n",
       "      <td>0.5</td>\n",
       "      <td>1.0</td>\n",
       "      <td>1.0</td>\n",
       "    </tr>\n",
       "    <tr>\n",
       "      <th>teenager</th>\n",
       "      <td>34.0</td>\n",
       "      <td>1.000000</td>\n",
       "      <td>1.279204</td>\n",
       "      <td>0.0</td>\n",
       "      <td>0.0</td>\n",
       "      <td>1.0</td>\n",
       "      <td>1.0</td>\n",
       "      <td>6.0</td>\n",
       "    </tr>\n",
       "    <tr>\n",
       "      <th rowspan=\"4\" valign=\"top\">male</th>\n",
       "      <th>adult</th>\n",
       "      <td>64.0</td>\n",
       "      <td>0.375000</td>\n",
       "      <td>0.654654</td>\n",
       "      <td>0.0</td>\n",
       "      <td>0.0</td>\n",
       "      <td>0.0</td>\n",
       "      <td>1.0</td>\n",
       "      <td>3.0</td>\n",
       "    </tr>\n",
       "    <tr>\n",
       "      <th>child</th>\n",
       "      <td>19.0</td>\n",
       "      <td>2.263158</td>\n",
       "      <td>1.045738</td>\n",
       "      <td>1.0</td>\n",
       "      <td>2.0</td>\n",
       "      <td>2.0</td>\n",
       "      <td>2.0</td>\n",
       "      <td>6.0</td>\n",
       "    </tr>\n",
       "    <tr>\n",
       "      <th>senior</th>\n",
       "      <td>3.0</td>\n",
       "      <td>0.666667</td>\n",
       "      <td>1.154701</td>\n",
       "      <td>0.0</td>\n",
       "      <td>0.0</td>\n",
       "      <td>0.0</td>\n",
       "      <td>1.0</td>\n",
       "      <td>2.0</td>\n",
       "    </tr>\n",
       "    <tr>\n",
       "      <th>teenager</th>\n",
       "      <td>7.0</td>\n",
       "      <td>0.857143</td>\n",
       "      <td>1.214986</td>\n",
       "      <td>0.0</td>\n",
       "      <td>0.0</td>\n",
       "      <td>0.0</td>\n",
       "      <td>1.5</td>\n",
       "      <td>3.0</td>\n",
       "    </tr>\n",
       "  </tbody>\n",
       "</table>\n",
       "</div>"
      ],
      "text/plain": [
       "                  count      mean       std  min  25%  50%  75%  max\n",
       "Sex    Class_Age                                                    \n",
       "female adult      140.0  1.014286  1.240711  0.0  0.0  1.0  2.0  6.0\n",
       "       child       19.0  2.263158  1.240166  0.0  2.0  2.0  3.0  6.0\n",
       "       senior       4.0  0.500000  0.577350  0.0  0.0  0.5  1.0  1.0\n",
       "       teenager    34.0  1.000000  1.279204  0.0  0.0  1.0  1.0  6.0\n",
       "male   adult       64.0  0.375000  0.654654  0.0  0.0  0.0  1.0  3.0\n",
       "       child       19.0  2.263158  1.045738  1.0  2.0  2.0  2.0  6.0\n",
       "       senior       3.0  0.666667  1.154701  0.0  0.0  0.0  1.0  2.0\n",
       "       teenager     7.0  0.857143  1.214986  0.0  0.0  0.0  1.5  3.0"
      ]
     },
     "execution_count": 21,
     "metadata": {},
     "output_type": "execute_result"
    }
   ],
   "source": [
    "df_survived = df.query('Survived ==1').groupby(['Sex', 'Class_Age'])\n",
    "df_survived['Family_Size'].describe()"
   ]
  },
  {
   "cell_type": "markdown",
   "metadata": {},
   "source": [
    "Quadro 4 - Estatistica de resumo de tamanho da familia por Sexo e Grupo etário<br>"
   ]
  },
  {
   "cell_type": "code",
   "execution_count": 22,
   "metadata": {},
   "outputs": [
    {
     "data": {
      "text/plain": [
       "Sex     Class_Age\n",
       "female  adult        140\n",
       "        child         19\n",
       "        senior         4\n",
       "        teenager      34\n",
       "male    adult         64\n",
       "        child         19\n",
       "        senior         3\n",
       "        teenager       7\n",
       "Name: Name, dtype: int64"
      ]
     },
     "execution_count": 22,
     "metadata": {},
     "output_type": "execute_result"
    }
   ],
   "source": [
    "df.query('Survived ==1').groupby(['Sex', 'Class_Age']).count()['Name']"
   ]
  },
  {
   "cell_type": "markdown",
   "metadata": {},
   "source": [
    "Quadro 5 - Resumo de sobreviventes por sexo e Grupo etário<br>"
   ]
  },
  {
   "cell_type": "code",
   "execution_count": 23,
   "metadata": {},
   "outputs": [
    {
     "data": {
      "text/plain": [
       "Sex     Family_Size\n",
       "female  0              79\n",
       "        1              58\n",
       "        2              35\n",
       "        3              16\n",
       "        4               3\n",
       "        5               3\n",
       "        6               3\n",
       "male    0              51\n",
       "        1              18\n",
       "        2              18\n",
       "        3               5\n",
       "        6               1\n",
       "Name: Name, dtype: int64"
      ]
     },
     "execution_count": 23,
     "metadata": {},
     "output_type": "execute_result"
    }
   ],
   "source": [
    "df.query('Survived ==1').groupby(['Sex', 'Family_Size']).count()['Name']"
   ]
  },
  {
   "cell_type": "markdown",
   "metadata": {},
   "source": [
    "Quadro 6 - Resumo de sobreviventes por sexo e Tamanho da familia<br>"
   ]
  },
  {
   "cell_type": "code",
   "execution_count": 24,
   "metadata": {},
   "outputs": [
    {
     "data": {
      "text/plain": [
       "Class_Age  Family_Size\n",
       "adult      0              108\n",
       "           1               53\n",
       "           2               27\n",
       "           3               10\n",
       "           4                2\n",
       "           5                3\n",
       "           6                1\n",
       "child      0                1\n",
       "           1                5\n",
       "           2               21\n",
       "           3                9\n",
       "           6                2\n",
       "senior     0                4\n",
       "           1                2\n",
       "           2                1\n",
       "teenager   0               17\n",
       "           1               16\n",
       "           2                4\n",
       "           3                2\n",
       "           4                1\n",
       "           6                1\n",
       "Name: Name, dtype: int64"
      ]
     },
     "execution_count": 24,
     "metadata": {},
     "output_type": "execute_result"
    }
   ],
   "source": [
    "df.query('Survived ==1').groupby(['Class_Age','Family_Size']).count()['Name']"
   ]
  },
  {
   "cell_type": "markdown",
   "metadata": {},
   "source": [
    "Quadro 7 - Resumo de sobreviventes por Grupo etário e Tamanho da familia<br>"
   ]
  },
  {
   "cell_type": "markdown",
   "metadata": {},
   "source": [
    "**Gráficos de Barra** é uma boa escolha para demonstrar como algumas quantidades variam entre um conjunto particular de itens. Assim como o **Gráficos de Dispersão** são para visualisar relacionamentos entre pares de conjunto de dados."
   ]
  },
  {
   "cell_type": "code",
   "execution_count": 25,
   "metadata": {},
   "outputs": [
    {
     "data": {
      "image/png": "[encoded data removed]",
      "text/plain": [
       "<Figure size 432x288 with 1 Axes>"
      ]
     },
     "metadata": {},
     "output_type": "display_data"
    }
   ],
   "source": [
    "# Use query para selecionar cada grupo e obter sua qualidade média\n",
    "mediana_family_size = df_titanic[\"Family_Size\"].median()\n",
    "low_family_size = df.query('Family_Size <= {}'.format(mediana_family_size))\n",
    "high_family_size = df.query('Family_Size > {}'.format(mediana_family_size))\n",
    "\n",
    "mean_family_size_low = low_family_size['Survived'].mean()\n",
    "mean_family_size_high = high_family_size['Survived'].mean()\n",
    "\n",
    "# Crie um gráfico de barras com rótulos adequados\n",
    "locations = [1, 2]\n",
    "heights = [mean_family_size_low, mean_family_size_high]\n",
    "labels = ['Low', 'High']\n",
    "plt.bar(locations, heights, tick_label=labels)\n",
    "plt.title('Average Survived by Family Size')\n",
    "plt.xlabel('Family Size Content')\n",
    "plt.ylabel('Average Survived Rating');"
   ]
  },
  {
   "cell_type": "markdown",
   "metadata": {},
   "source": [
    "Grafico 1 - Sobreviventes variam conforme o tamanho da familia, ou seja, Quanto maior o tamnho da familia maior a chance de ser sobrevivente"
   ]
  },
  {
   "cell_type": "code",
   "execution_count": 26,
   "metadata": {},
   "outputs": [
    {
     "data": {
      "text/plain": [
       "Text(0,0.5,'Count')"
      ]
     },
     "execution_count": 26,
     "metadata": {},
     "output_type": "execute_result"
    },
    {
     "data": {
      "image/png": "[encoded data removed]",
      "text/plain": [
       "<Figure size 432x288 with 1 Axes>"
      ]
     },
     "metadata": {},
     "output_type": "display_data"
    }
   ],
   "source": [
    "counts_survived_sex = df_titanic.groupby(['Survived', 'Sex']).count()['Family_Size']\n",
    "totals_survived_sex = df_titanic.groupby('Sex').count()['Family_Size']\n",
    "proportions_survived_sex = counts_survived_sex / totals_survived_sex\n",
    "\n",
    "proportions_survived_sex.plot(kind='bar', title='Sobreviventes por sexo', alpha=1)\n",
    "plt.xlabel('Survived and Sex', fontsize=18)\n",
    "plt.ylabel('Count', fontsize=18)"
   ]
  },
  {
   "cell_type": "markdown",
   "metadata": {},
   "source": [
    "Gráfico 2 - Variação de quantidade de sobreviventes por sexo. Passageiros do sexo feminimo possuem maiores chances de sobreviver<br>"
   ]
  },
  {
   "cell_type": "code",
   "execution_count": 27,
   "metadata": {},
   "outputs": [
    {
     "data": {
      "image/png": "[encoded data removed]",
      "text/plain": [
       "<Figure size 432x288 with 1 Axes>"
      ]
     },
     "metadata": {},
     "output_type": "display_data"
    }
   ],
   "source": [
    "sns.set(style=\"ticks\", palette=\"pastel\")\n",
    "\n",
    "sns.boxplot(x=\"Class_Age\", y=\"Family_Size\",\n",
    "            hue=\"Sex\", palette=[\"m\", \"g\"],\n",
    "            data=df_titanic)\n",
    "sns.despine(offset=10, trim=True)"
   ]
  },
  {
   "cell_type": "markdown",
   "metadata": {},
   "source": [
    "Gráfico 3 - Relação entre as variaveis dependentes **Sex** vs **Class_age** vs **Family_Size**. Entre as Crianças o sexo Masculino prevalesce em relação ao Masculino com maior tamanho de Familia. Entre os Adultos as mulheres prevalecem entre os homens com o tamanho de familia um pouco menor.<br>"
   ]
  },
  {
   "cell_type": "code",
   "execution_count": 28,
   "metadata": {},
   "outputs": [
    {
     "data": {
      "text/plain": [
       "Text(0,0.5,'Count')"
      ]
     },
     "execution_count": 28,
     "metadata": {},
     "output_type": "execute_result"
    },
    {
     "data": {
      "image/png": "[encoded data removed]",
      "text/plain": [
       "<Figure size 432x288 with 1 Axes>"
      ]
     },
     "metadata": {},
     "output_type": "display_data"
    }
   ],
   "source": [
    "counts_survived_age_group = df_titanic.groupby(['Survived', 'Class_Age']).count()['Family_Size']\n",
    "total_survived_age_group = df_titanic.groupby('Class_Age').count()['Family_Size']\n",
    "proportions_survived_age_group = counts_survived_age_group / total_survived_age_group\n",
    "\n",
    "proportions_survived_age_group.plot(kind='bar', title='Sobreviventes por Grupo etário', alpha=1)\n",
    "plt.xlabel('Survived and Class Age', fontsize=18)\n",
    "plt.ylabel('Count', fontsize=18)"
   ]
  },
  {
   "cell_type": "markdown",
   "metadata": {},
   "source": [
    "Gráfico 4 - Variação de quantidade de sobreviventes por Grupo etário. O Grupo etário *Child* sobressai aos sobreviventes e *Senior* na relação inversa<br><br>"
   ]
  },
  {
   "cell_type": "code",
   "execution_count": 29,
   "metadata": {},
   "outputs": [
    {
     "data": {
      "image/png": "[encoded data removed]",
      "text/plain": [
       "<Figure size 432x288 with 1 Axes>"
      ]
     },
     "metadata": {},
     "output_type": "display_data"
    }
   ],
   "source": [
    "ax = sns.violinplot(x=\"Family_Size\", y=\"Class_Age\", data=df_titanic, inner=None, color=\".8\")\n",
    "ax = sns.stripplot(x=\"Family_Size\", y=\"Class_Age\", data=df_titanic, jitter=True)"
   ]
  },
  {
   "cell_type": "markdown",
   "metadata": {},
   "source": [
    "Grafico 5 - Observar o relacionamento da Variavel *Class_Age* e *Family_Size*. A presença de crianças está relacionado ao tamanho da familia e o grupo etário de Senior estarem viajando sozinhos provavelmente."
   ]
  },
  {
   "cell_type": "markdown",
   "metadata": {},
   "source": [
    "## Resultado\n",
    "\n",
    "A analise dos dados populacional do Titanic, contatou-se uma predileção na evacuação da embarcação por mulheres, crianças e familias. Os idosos, homens e sem familias abordo não foram poderados com prioridade no processo de evacuação.\n",
    "A idade média dos sobreviventes era de 28 anos.\n",
    "\n",
    "## Limitações\n",
    "\n",
    "- Os valores faltantes de idade. Optou-se por descartar os registros faltantes ao preenchimento com media já que a representatidade da informação existente era de mais de 80%.\n",
    "\n",
    "- Pensou-se em traçar um paralelo com o Deck da Cabine do passageiro mas os valores faltantes para a fueture Cabin era excessivo, optando por descarta-lo\n"
   ]
  },
  {
   "cell_type": "markdown",
   "metadata": {},
   "source": [
    "## Referências\n",
    "\n",
    "- https://www.kaggle.com/c/titanic/data\n",
    "- https://www.kaggle.com/c/titanic/discussion\n",
    "- https://triangleinequality.wordpress.com/2013/09/08/basic-feature-engineering-with-the-titanic-data/\n",
    "- https://www.encyclopedia-titanica.org/\n",
    "- http://www.un.org/en/development/desa/population/publications/pdf/ageing/WPA2015_Report.pdf\n",
    "- https://www.who.int/ageing/mulheres_saude.pdf\n",
    "- \n"
   ]
  },
  {
   "cell_type": "code",
   "execution_count": null,
   "metadata": {},
   "outputs": [],
   "source": []
  }
 ],
 "metadata": {
  "kernelspec": {
   "display_name": "Python 3",
   "language": "python",
   "name": "python3"
  },
  "language_info": {
   "codemirror_mode": {
    "name": "ipython",
    "version": 3
   },
   "file_extension": ".py",
   "mimetype": "text/x-python",
   "name": "python",
   "nbconvert_exporter": "python",
   "pygments_lexer": "ipython3",
   "version": "3.6.5"
  }
 },
 "nbformat": 4,
 "nbformat_minor": 2
}
